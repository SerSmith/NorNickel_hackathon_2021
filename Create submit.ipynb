{
 "metadata": {
  "language_info": {
   "codemirror_mode": {
    "name": "ipython",
    "version": 3
   },
   "file_extension": ".py",
   "mimetype": "text/x-python",
   "name": "python",
   "nbconvert_exporter": "python",
   "pygments_lexer": "ipython3",
   "version": "3.6.8-final"
  },
  "orig_nbformat": 2,
  "kernelspec": {
   "name": "python36864bitlgvenvvenv4d40c4115d7c473cb668ae42325ecd73",
   "display_name": "Python 3.6.8 64-bit ('lg_venv': venv)",
   "metadata": {
    "interpreter": {
     "hash": "6ff5ba63cadd4cebb77ff5f5920f06abd45cf6fcd599c26827739a1f3b2848dc"
    }
   }
  }
 },
 "nbformat": 4,
 "nbformat_minor": 2,
 "cells": [
  {
   "cell_type": "markdown",
   "metadata": {},
   "source": [
    "# submit generation"
   ]
  },
  {
   "cell_type": "code",
   "execution_count": 1,
   "metadata": {},
   "outputs": [],
   "source": [
    "%load_ext autoreload\n",
    "import pandas as pd\n",
    "import numpy as np\n",
    "from sklearn.metrics import precision_recall_curve\n",
    "\n",
    "from src.features import generate_features\n",
    "from src.models.model import ModelSick\n",
    "\n",
    "pd.set_option('display.max_columns', 1000)\n",
    "pd.set_option('display.max_rows', 100)"
   ]
  },
  {
   "cell_type": "code",
   "execution_count": 2,
   "metadata": {},
   "outputs": [],
   "source": [
    "# Считывание данных\n",
    "\n",
    "sot = pd.read_csv('data/sotrudniki.csv', sep = ';')\n",
    "rod = pd.read_csv('data/rodstvenniki.csv', sep = ';')\n",
    "ogrv = pd.read_csv('data/OGRV.csv', sep = ';')\n",
    "weather = pd.read_csv('data/Weather.csv', sep = '|')"
   ]
  },
  {
   "cell_type": "code",
   "execution_count": 3,
   "metadata": {},
   "outputs": [
    {
     "data": {
      "text/html": "<div>\n<style scoped>\n    .dataframe tbody tr th:only-of-type {\n        vertical-align: middle;\n    }\n\n    .dataframe tbody tr th {\n        vertical-align: top;\n    }\n\n    .dataframe thead th {\n        text-align: right;\n    }\n</style>\n<table border=\"1\" class=\"dataframe\">\n  <thead>\n    <tr style=\"text-align: right;\">\n      <th></th>\n      <th>date_of_birth</th>\n      <th>name_post_lvl4</th>\n      <th>name_post_lvl5</th>\n      <th>prof_post_augment</th>\n      <th>name_fact_lvl4</th>\n      <th>prof_fact_augment</th>\n      <th>married</th>\n      <th>child_num</th>\n      <th>work_experience_factory</th>\n      <th>sick</th>\n      <th>home_to_work_duration</th>\n    </tr>\n  </thead>\n  <tbody>\n    <tr>\n      <th>0</th>\n      <td>1985</td>\n      <td>NaN</td>\n      <td>NaN</td>\n      <td>Должность_0</td>\n      <td>NaN</td>\n      <td>Должность_0</td>\n      <td>хол/нз</td>\n      <td>1</td>\n      <td>9.0</td>\n      <td>0</td>\n      <td>NaN</td>\n    </tr>\n    <tr>\n      <th>1</th>\n      <td>1985</td>\n      <td>NaN</td>\n      <td>NaN</td>\n      <td>Должность_0</td>\n      <td>NaN</td>\n      <td>Должность_0</td>\n      <td>хол/нз</td>\n      <td>1</td>\n      <td>9.0</td>\n      <td>0</td>\n      <td>NaN</td>\n    </tr>\n    <tr>\n      <th>2</th>\n      <td>1985</td>\n      <td>NaN</td>\n      <td>NaN</td>\n      <td>Должность_0</td>\n      <td>NaN</td>\n      <td>Должность_0</td>\n      <td>хол/нз</td>\n      <td>1</td>\n      <td>9.0</td>\n      <td>0</td>\n      <td>NaN</td>\n    </tr>\n    <tr>\n      <th>3</th>\n      <td>1985</td>\n      <td>NaN</td>\n      <td>NaN</td>\n      <td>Должность_0</td>\n      <td>NaN</td>\n      <td>Должность_0</td>\n      <td>хол/нз</td>\n      <td>1</td>\n      <td>9.0</td>\n      <td>0</td>\n      <td>NaN</td>\n    </tr>\n    <tr>\n      <th>4</th>\n      <td>1985</td>\n      <td>NaN</td>\n      <td>NaN</td>\n      <td>Должность_0</td>\n      <td>NaN</td>\n      <td>Должность_0</td>\n      <td>хол/нз</td>\n      <td>1</td>\n      <td>9.0</td>\n      <td>0</td>\n      <td>NaN</td>\n    </tr>\n    <tr>\n      <th>...</th>\n      <td>...</td>\n      <td>...</td>\n      <td>...</td>\n      <td>...</td>\n      <td>...</td>\n      <td>...</td>\n      <td>...</td>\n      <td>...</td>\n      <td>...</td>\n      <td>...</td>\n      <td>...</td>\n    </tr>\n    <tr>\n      <th>99209</th>\n      <td>1980</td>\n      <td>NaN</td>\n      <td>NaN</td>\n      <td>NaN</td>\n      <td>NaN</td>\n      <td>Должность_19</td>\n      <td>жен/зм</td>\n      <td>2</td>\n      <td>NaN</td>\n      <td>0</td>\n      <td>6.878333</td>\n    </tr>\n    <tr>\n      <th>99210</th>\n      <td>1982</td>\n      <td>NaN</td>\n      <td>NaN</td>\n      <td>NaN</td>\n      <td>NaN</td>\n      <td>Должность_19</td>\n      <td>разв.</td>\n      <td>1</td>\n      <td>NaN</td>\n      <td>0</td>\n      <td>NaN</td>\n    </tr>\n    <tr>\n      <th>99211</th>\n      <td>1994</td>\n      <td>NaN</td>\n      <td>NaN</td>\n      <td>NaN</td>\n      <td>NaN</td>\n      <td>Должность_19</td>\n      <td>хол/нз</td>\n      <td>0</td>\n      <td>NaN</td>\n      <td>0</td>\n      <td>NaN</td>\n    </tr>\n    <tr>\n      <th>99212</th>\n      <td>1998</td>\n      <td>Отделение_8</td>\n      <td>передел 7</td>\n      <td>Должность_56</td>\n      <td>Отделение_8</td>\n      <td>Должность_32</td>\n      <td>хол/нз</td>\n      <td>0</td>\n      <td>NaN</td>\n      <td>1</td>\n      <td>3.113333</td>\n    </tr>\n    <tr>\n      <th>99213</th>\n      <td>1986</td>\n      <td>Отделение_1</td>\n      <td>передел 1</td>\n      <td>Должность_56</td>\n      <td>Отделение_1</td>\n      <td>Должность_32</td>\n      <td>хол/нз</td>\n      <td>0</td>\n      <td>5.0</td>\n      <td>0</td>\n      <td>7.230000</td>\n    </tr>\n  </tbody>\n</table>\n<p>99214 rows × 11 columns</p>\n</div>",
      "text/plain": "       date_of_birth name_post_lvl4 name_post_lvl5 prof_post_augment  \\\n0               1985            NaN            NaN       Должность_0   \n1               1985            NaN            NaN       Должность_0   \n2               1985            NaN            NaN       Должность_0   \n3               1985            NaN            NaN       Должность_0   \n4               1985            NaN            NaN       Должность_0   \n...              ...            ...            ...               ...   \n99209           1980            NaN            NaN               NaN   \n99210           1982            NaN            NaN               NaN   \n99211           1994            NaN            NaN               NaN   \n99212           1998    Отделение_8      передел 7      Должность_56   \n99213           1986    Отделение_1      передел 1      Должность_56   \n\n      name_fact_lvl4 prof_fact_augment married  child_num  \\\n0                NaN       Должность_0  хол/нз          1   \n1                NaN       Должность_0  хол/нз          1   \n2                NaN       Должность_0  хол/нз          1   \n3                NaN       Должность_0  хол/нз          1   \n4                NaN       Должность_0  хол/нз          1   \n...              ...               ...     ...        ...   \n99209            NaN      Должность_19  жен/зм          2   \n99210            NaN      Должность_19   разв.          1   \n99211            NaN      Должность_19  хол/нз          0   \n99212    Отделение_8      Должность_32  хол/нз          0   \n99213    Отделение_1      Должность_32  хол/нз          0   \n\n       work_experience_factory  sick  home_to_work_duration  \n0                          9.0     0                    NaN  \n1                          9.0     0                    NaN  \n2                          9.0     0                    NaN  \n3                          9.0     0                    NaN  \n4                          9.0     0                    NaN  \n...                        ...   ...                    ...  \n99209                      NaN     0               6.878333  \n99210                      NaN     0                    NaN  \n99211                      NaN     0                    NaN  \n99212                      NaN     1               3.113333  \n99213                      5.0     0               7.230000  \n\n[99214 rows x 11 columns]"
     },
     "execution_count": 3,
     "metadata": {},
     "output_type": "execute_result"
    }
   ],
   "source": [
    "sot[[c for c in sot.columns if c not in ['hash_tab_num','date','category', 'age', 'is_local','gender','razryad_fact', 'razryad_post', 'work_experience_company',\n",
    "                     'work_experience_all', 'name_fact_lvl5','education','home_to_work_distance']]]"
   ]
  },
  {
   "cell_type": "code",
   "execution_count": 4,
   "metadata": {},
   "outputs": [
    {
     "name": "stdout",
     "output_type": "stream",
     "text": "1 (99214, 710)\n(99214, 730)\n2 (99214, 746)\n3 (99214, 746)\n"
    }
   ],
   "source": [
    "%autoreload 2\n",
    "\n",
    "X, y = generate_features(sot, rod, ogrv, weather)"
   ]
  },
  {
   "cell_type": "code",
   "execution_count": 14,
   "metadata": {},
   "outputs": [],
   "source": [
    "best = {'feature_fraction': 0.8500000000000001,\n",
    " 'lambda_l1': 2.8000000000000003,\n",
    " 'lambda_l2': 5.5,\n",
    " 'learning_rate': 0.05,\n",
    " 'max_bin': 985.0,\n",
    " 'max_depth': 5.0,\n",
    " 'min_data_in_leaf': 500.0,\n",
    " 'num_leaves': 61.0,\n",
    " 'path_smooth': 2.7750000000000004}\n",
    "best_params = {'num_leaves': int(best['num_leaves'])\n",
    "            , 'max_bin': int(best['max_bin'])\n",
    "            , 'max_depth': int(best['max_depth'])\n",
    "            , 'learning_rate': round(best['learning_rate'], 3)\n",
    "            , 'path_smooth': round(best['path_smooth'], 3)\n",
    "            , 'lambda_l1': round(best['lambda_l1'], 3)\n",
    "            , 'lambda_l2': round(best['lambda_l2'], 3)\n",
    "            , 'min_data_in_leaf': int(best['min_data_in_leaf'])\n",
    "            , 'feature_fraction':round(best['feature_fraction'], 3)         \n",
    "            , 'objective': 'binary' \n",
    "            , 'metric': 'auc'\n",
    "            , 'nthread': 7\n",
    "             }\n",
    "nround = 100\n",
    "\n",
    "params = {i: best_params for i in range(1,13)}\n",
    "nrounds = {i: nround for i in range(1,13)}"
   ]
  },
  {
   "cell_type": "code",
   "execution_count": 15,
   "metadata": {},
   "outputs": [],
   "source": [
    "# Деление на трейн и тест для последующего прогноза final\n",
    "\n",
    "X_train = X[X.date < pd.to_datetime('2019-08-01')]\n",
    "y_train = y[X.date < pd.to_datetime('2019-08-01')]\n",
    "\n",
    "X_train = X_train[~ y_train.isna().any(axis=1)]\n",
    "y_train = y_train[~ y_train.isna().any(axis=1)]\n",
    "\n",
    "X_test = X[X.date == pd.to_datetime('2019-08-01')]"
   ]
  },
  {
   "cell_type": "code",
   "execution_count": 16,
   "metadata": {},
   "outputs": [
    {
     "name": "stdout",
     "output_type": "stream",
     "text": "[Warning] No further splits with positive gain, best gain: -inf\n[LightGBM] [Warning] No further splits with positive gain, best gain: -inf\n[LightGBM] [Warning] No further splits with positive gain, best gain: -inf\n[LightGBM] [Warning] No further splits with positive gain, best gain: -inf\n[LightGBM] [Warning]No further splits with positive gain, best gain: -inf\n[LightGBM] [Warning] No further splits with positive gain, best gain: -inf\n[LightGBM] [Warning] No further splits with positive gain, best gain: -inf\n[LightGBM] [Warning] No further splits with positive gain, best gain: -inf\n[LightGBM] [Warning] No further splits with positive gain, best gain: -inf\n[LightGBM] [Warning] No further splits with positive gain, best gain: -inf\n[LightGBM] [Warning] No further splits with positive gain, best gain: -inf\n[LightGBM] [Warning] No further splits with positive gain, best gain: -inf\n[LightGBM] [Warning] No further splits with positive gain, best gain: -inf\n[LightGBM] [Warning] No further splits with positive gain, best gain: -inf\n[LightGBM] [Warning] No further splits with positive gain, best gain: -inf\n[LightGBM] [Warning] No further splits with positive gain, best gain: -inf\n[LightGBM] [Warning] No further splits with positive gain, best gain: -inf\n[LightGBM] [Warning] No further splits with positive gain, best gain: -inf\n[LightGBM] [Warning] No further splits with positive gain, best gain: -inf\n[LightGBM] [Warning] No further splits with positive gain, best gain: -inf\n[LightGBM] [Warning] No further splits with positive gain, best gain: -inf\n[LightGBM] [Warning] No further splits with positive gain, best gain: -inf\n[LightGBM] [Warning] No further splits with positive gain, best gain: -inf\n[LightGBM] [Warning] No further splits with positive gain, best gain: -inf\n[LightGBM] [Warning] No further splits with positive gain, best gain: -inf\n[LightGBM] [Warning] No further splits with positive gain, best gain: -inf\n[LightGBM] [Warning] No further splits with positive gain, best gain: -inf\n[LightGBM] [Warning] No further splits with positive gain, best gain: -inf\n[LightGBM] [Warning] No further splits with positive gain, best gain: -inf\n[LightGBM] [Warning] No further splits with positive gain, best gain: -inf\n[LightGBM] [Warning] No further splits with positive gain, best gain: -inf\n[LightGBM] [Warning] No further splits with positive gain, best gain: -inf\n[LightGBM] [Warning] No further splits with positive gain, best gain: -inf\n[LightGBM] [Warning] No further splits with positive gain, best gain: -inf\n[LightGBM] [Warning] No further splits with positive gain, best gain: -inf\n[LightGBM] [Warning] No further splits with positive gain, best gain: -inf\n[LightGBM] [Warning] No further splits with positive gain, best gain: -inf\n[LightGBM] [Warning] No further splits with positive gain, best gain: -inf\n[LightGBM] [Warning] No further splits with positive gain, best gain: -inf\n[LightGBM] [Warning] No further splits with positive gain, best gain: -inf\n[LightGBM] [Warning] No further splits with positive gain, best gain: -inf\n[LightGBM] [Warning] No further splits with positive gain, best gain: -inf\n[LightGBM] [Warning] No further splits with positive gain, best gain: -inf\n[LightGBM] [Warning] No further splits with positive gain, best gain: -inf\n[LightGBM] [Warning] No further splits with positive gain, best gain: -inf\n[LightGBM] [Warning] No further splits with positive gain, best gain: -inf\n[LightGBM] [Warning] No further splits with positive gain, best gain: -inf\n[LightGBM] [Warning] No further splits with positive gain, best gain: -inf\n[LightGBM] [Info] Number of positive: 7519, number of negative: 55302\n[LightGBM] [Warning] Auto-choosing col-wise multi-threading, the overhead of testing was 0.273997 seconds.\nYou can set `force_col_wise=true` to remove the overhead.\n[LightGBM] [Info] Total Bins 287502\n[LightGBM] [Info] Number of data points in the train set: 62821, number of used features: 705\n[LightGBM] [Info] [binary:BoostFromScore]: pavg=0.119689 -> initscore=-1.995376\n[LightGBM] [Info] Start training from score -1.995376\n[LightGBM] [Warning] No further splits with positive gain, best gain: -inf\n[LightGBM] [Warning] No further splits with positive gain, best gain: -inf\n[LightGBM] [Warning] No further splits with positive gain, best gain: -inf\n[LightGBM] [Warning] No further splits with positive gain, best gain: -inf\n[LightGBM] [Warning] No further splits with positive gain, best gain: -inf\n[LightGBM] [Warning] No further splits with positive gain, best gain: -inf\n[LightGBM] [Warning] No further splits with positive gain, best gain: -inf\n[LightGBM] [Warning] No further splits with positive gain, best gain: -inf\n[LightGBM] [Warning] No further splits with positive gain, best gain: -inf\n[LightGBM] [Warning] No further splits with positive gain, best gain: -inf\n[LightGBM] [Warning] No further splits with positive gain, best gain: -inf\n[LightGBM] [Warning] No further splits with positive gain, best gain: -inf\n[LightGBM] [Warning] No further splits with positive gain, best gain: -inf\n[LightGBM] [Warning] No further splits with positive gain, best gain: -inf\n[LightGBM] [Warning] No further splits with positive gain, best gain: -inf\n[LightGBM] [Warning] No further splits with positive gain, best gain: -inf\n[LightGBM] [Warning] No further splits with positive gain, best gain: -inf\n[LightGBM] [Warning] No further splits with positive gain, best gain: -inf\n[LightGBM] [Warning] No further splits with positive gain, best gain: -inf\n[LightGBM] [Warning] No further splits with positive gain, best gain: -inf\n[LightGBM] [Warning] No further splits with positive gain, best gain: -inf\n[LightGBM] [Warning] No further splits with positive gain, best gain: -inf\n[LightGBM] [Warning] No further splits with positive gain, best gain: -inf\n[LightGBM] [Warning] No further splits with positive gain, best gain: -inf\n[LightGBM] [Warning] No further splits with positive gain, best gain: -inf\n[LightGBM] [Warning] No further splits with positive gain, best gain: -inf\n[LightGBM] [Warning] No further splits with positive gain, best gain: -inf\n[LightGBM] [Warning] No further splits with positive gain, best gain: -inf\n[LightGBM] [Warning] No further splits with positive gain, best gain: -inf\n[LightGBM] [Warning] No further splits with positive gain, best gain: -inf\n[LightGBM] [Warning] No further splits with positive gain, best gain: -inf\n[LightGBM] [Warning] No further splits with positive gain, best gain: -inf\n[LightGBM] [Warning] No further splits with positive gain, best gain: -inf\n[LightGBM] [Warning] No further splits with positive gain, best gain: -inf\n[LightGBM] [Warning] No further splits with positive gain, best gain: -inf\n[LightGBM] [Warning] No further splits with positive gain, best gain: -inf\n[LightGBM] [Warning] No further splits with positive gain, best gain: -inf\n[LightGBM] [Warning] No further splits with positive gain, best gain: -inf\n[LightGBM] [Warning] No further splits with positive gain, best gain: -inf\n[LightGBM] [Warning] No further splits with positive gain, best gain: -inf\n[LightGBM] [Warning] No further splits with positive gain, best gain: -inf\n[LightGBM] [Warning] No further splits with positive gain, best gain: -inf\n[LightGBM] [Warning] No further splits with positive gain, best gain: -inf\n[LightGBM] [Warning] No further splits with positive gain, best gain: -inf\n[LightGBM] [Warning] No further splits with positive gain, best gain: -inf\n[LightGBM] [Warning] No further splits with positive gain, best gain: -inf\n[LightGBM] [Warning] No further splits with positive gain, best gain: -inf\n[LightGBM] [Warning] No further splits with positive gain, best gain: -inf\n[LightGBM] [Warning] No further splits with positive gain, best gain: -inf\n[LightGBM] [Warning] No further splits with positive gain, best gain: -inf\n[LightGBM] [Warning] No further splits with positive gain, best gain: -inf\n[LightGBM] [Warning] No further splits with positive gain, best gain: -inf\n[LightGBM] [Warning] No further splits with positive gain, best gain: -inf\n[LightGBM] [Warning] No further splits with positive gain, best gain: -inf\n[LightGBM] [Warning] No further splits with positive gain, best gain: -inf\n[LightGBM] [Warning] No further splits with positive gain, best gain: -inf\n[LightGBM] [Warning] No further splits with positive gain, best gain: -inf\n[LightGBM] [Warning] No further splits with positive gain, best gain: -inf\n[LightGBM] [Warning] No further splits with positive gain, best gain: -inf\n[LightGBM] [Warning] No further splits with positive gain, best gain: -inf\n[LightGBM] [Warning] No further splits with positive gain, best gain: -inf\n[LightGBM] [Warning] No further splits with positive gain, best gain: -inf\n[LightGBM] [Warning] No further splits with positive gain, best gain: -inf\n[LightGBM] [Warning] No further splits with positive gain, best gain: -inf\n[LightGBM] [Warning] No further splits with positive gain, best gain: -inf\n[LightGBM] [Warning] No further splits with positive gain, best gain: -inf\n[LightGBM] [Warning] No further splits with positive gain, best gain: -inf\n[LightGBM] [Warning] No further splits with positive gain, best gain: -inf\n[LightGBM] [Warning] No further splits with positive gain, best gain: -inf\n[LightGBM] [Warning] No further splits with positive gain, best gain: -inf\n[LightGBM] [Warning] No further splits with positive gain, best gain: -inf\n[LightGBM] [Warning] No further splits with positive gain, best gain: -inf\n[LightGBM] [Warning] No further splits with positive gain, best gain: -inf\n[LightGBM] [Warning] No further splits with positive gain, best gain: -inf\n[LightGBM] [Warning] No further splits with positive gain, best gain: -inf\n[LightGBM] [Warning] No further splits with positive gain, best gain: -inf\n[LightGBM] [Warning] No further splits with positive gain, best gain: -inf\n[LightGBM] [Warning] No further splits with positive gain, best gain: -inf\n[LightGBM] [Warning] No further splits with positive gain, best gain: -inf\n[LightGBM] [Warning] No further splits with positive gain, best gain: -inf\n[LightGBM] [Warning] No further splits with positive gain, best gain: -inf\n[LightGBM] [Warning] No further splits with positive gain, best gain: -inf\n[LightGBM] [Warning] No further splits with positive gain, best gain: -inf\n[LightGBM] [Warning] No further splits with positive gain, best gain: -inf\n[LightGBM] [Warning] No further splits with positive gain, best gain: -inf\n[LightGBM] [Warning] No further splits with positive gain, best gain: -inf\n[LightGBM] [Warning] No further splits with positive gain, best gain: -inf\n[LightGBM] [Warning] No further splits with positive gain, best gain: -inf\n[LightGBM] [Warning] No further splits with positive gain, best gain: -inf\n[LightGBM] [Warning] No further splits with positive gain, best gain: -inf\n[LightGBM] [Warning] No further splits with positive gain, best gain: -inf\n[LightGBM] [Warning] No further splits with positive gain, best gain: -inf\n[LightGBM] [Warning] No further splits with positive gain, best gain: -inf\n[LightGBM] [Warning] No further splits with positive gain, best gain: -inf\n[LightGBM] [Warning] No further splits with positive gain, best gain: -inf\n[LightGBM] [Warning] No further splits with positive gain, best gain: -inf\n[LightGBM] [Warning] No further splits with positive gain, best gain: -inf\n[LightGBM] [Warning] No further splits with positive gain, best gain: -inf\n[LightGBM] [Warning] No further splits with positive gain, best gain: -inf\n[LightGBM] [Warning] No further splits with positive gain, best gain: -inf\n[LightGBM] [Info] Number of positive: 7535, number of negative: 55286\n[LightGBM] [Warning] Auto-choosing col-wise multi-threading, the overhead of testing was 0.279381 seconds.\nYou can set `force_col_wise=true` to remove the overhead.\n[LightGBM] [Info] Total Bins 287502\n[LightGBM] [Info] Number of data points in the train set: 62821, number of used features: 705\n[LightGBM] [Info] [binary:BoostFromScore]: pavg=0.119944 -> initscore=-1.992961\n[LightGBM] [Info] Start training from score -1.992961\n[LightGBM] [Warning] No further splits with positive gain, best gain: -inf\n[LightGBM] [Warning] No further splits with positive gain, best gain: -inf\n[LightGBM] [Warning] No further splits with positive gain, best gain: -inf\n[LightGBM] [Warning] No further splits with positive gain, best gain: -inf\n[LightGBM] [Warning] No further splits with positive gain, best gain: -inf\n[LightGBM] [Warning] No further splits with positive gain, best gain: -inf\n[LightGBM] [Warning] No further splits with positive gain, best gain: -inf\n[LightGBM] [Warning] No further splits with positive gain, best gain: -inf\n[LightGBM] [Warning] No further splits with positive gain, best gain: -inf\n[LightGBM] [Warning] No further splits with positive gain, best gain: -inf\n[LightGBM] [Warning] No further splits with positive gain, best gain: -inf\n[LightGBM] [Warning] No further splits with positive gain, best gain: -inf\n[LightGBM] [Warning] No further splits with positive gain, best gain: -inf\n[LightGBM] [Warning] No further splits with positive gain, best gain: -inf\n[LightGBM] [Warning] No further splits with positive gain, best gain: -inf\n[LightGBM] [Warning] No further splits with positive gain, best gain: -inf\n[LightGBM] [Warning] No further splits with positive gain, best gain: -inf\n[LightGBM] [Warning] No further splits with positive gain, best gain: -inf\n[LightGBM] [Warning] No further splits with positive gain, best gain: -inf\n[LightGBM] [Warning] No further splits with positive gain, best gain: -inf\n[LightGBM] [Warning] No further splits with positive gain, best gain: -inf\n[LightGBM] [Warning] No further splits with positive gain, best gain: -inf\n[LightGBM] [Warning] No further splits with positive gain, best gain: -inf\n[LightGBM] [Warning] No further splits with positive gain, best gain: -inf\n[LightGBM] [Warning] No further splits with positive gain, best gain: -inf\n[LightGBM] [Warning] No further splits with positive gain, best gain: -inf\n[LightGBM] [Warning] No further splits with positive gain, best gain: -inf\n[LightGBM] [Warning] No further splits with positive gain, best gain: -inf\n[LightGBM] [Warning] No further splits with positive gain, best gain: -inf\n[LightGBM] [Warning] No further splits with positive gain, best gain: -inf\n[LightGBM] [Warning] No further splits with positive gain, best gain: -inf\n[LightGBM] [Warning] No further splits with positive gain, best gain: -inf\n[LightGBM] [Warning] No further splits with positive gain, best gain: -inf\n[LightGBM] [Warning] No further splits with positive gain, best gain: -inf\n[LightGBM] [Warning] No further splits with positive gain, best gain: -inf\n[LightGBM] [Warning] No further splits with positive gain, best gain: -inf\n[LightGBM] [Warning] No further splits with positive gain, best gain: -inf\n[LightGBM] [Warning] No further splits with positive gain, best gain: -inf\n[LightGBM] [Warning] No further splits with positive gain, best gain: -inf\n[LightGBM] [Warning] No further splits with positive gain, best gain: -inf\n[LightGBM] [Warning] No further splits with positive gain, best gain: -inf\n[LightGBM] [Warning] No further splits with positive gain, best gain: -inf\n[LightGBM] [Warning] No further splits with positive gain, best gain: -inf\n[LightGBM] [Warning] No further splits with positive gain, best gain: -inf\n[LightGBM] [Warning] No further splits with positive gain, best gain: -inf\n[LightGBM] [Warning] No further splits with positive gain, best gain: -inf\n[LightGBM] [Warning] No further splits with positive gain, best gain: -inf\n[LightGBM] [Warning] No further splits with positive gain, best gain: -inf\n[LightGBM] [Warning] No further splits with positive gain, best gain: -inf\n[LightGBM] [Warning] No further splits with positive gain, best gain: -inf\n[LightGBM] [Warning] No further splits with positive gain, best gain: -inf\n[LightGBM] [Warning] No further splits with positive gain, best gain: -inf\n[LightGBM] [Warning] No further splits with positive gain, best gain: -inf\n[LightGBM] [Warning] No further splits with positive gain, best gain: -inf\n[LightGBM] [Warning] No further splits with positive gain, best gain: -inf\n[LightGBM] [Warning] No further splits with positive gain, best gain: -inf\n[LightGBM] [Warning] No further splits with positive gain, best gain: -inf\n[LightGBM] [Warning] No further splits with positive gain, best gain: -inf\n[LightGBM] [Warning] No further splits with positive gain, best gain: -inf\n[LightGBM] [Warning] No further splits with positive gain, best gain: -inf\n[LightGBM] [Warning] No further splits with positive gain, best gain: -inf\n[LightGBM] [Warning] No further splits with positive gain, best gain: -inf\n[LightGBM] [Warning] No further splits with positive gain, best gain: -inf\n[LightGBM] [Warning] No further splits with positive gain, best gain: -inf\n[LightGBM] [Warning] No further splits with positive gain, best gain: -inf\n[LightGBM] [Warning] No further splits with positive gain, best gain: -inf\n[LightGBM] [Warning] No further splits with positive gain, best gain: -inf\n[LightGBM] [Warning] No further splits with positive gain, best gain: -inf\n[LightGBM] [Warning] No further splits with positive gain, best gain: -inf\n[LightGBM] [Warning] No further splits with positive gain, best gain: -inf\n[LightGBM] [Warning] No further splits with positive gain, best gain: -inf\n[LightGBM] [Warning] No further splits with positive gain, best gain: -inf\n[LightGBM] [Warning] No further splits with positive gain, best gain: -inf\n[LightGBM] [Warning] No further splits with positive gain, best gain: -inf\n[LightGBM] [Warning] No further splits with positive gain, best gain: -inf\n[LightGBM] [Warning] No further splits with positive gain, best gain: -inf\n[LightGBM] [Warning] No further splits with positive gain, best gain: -inf\n[LightGBM] [Warning] No further splits with positive gain, best gain: -inf\n[LightGBM] [Warning] No further splits with positive gain, best gain: -inf\n[LightGBM] [Warning] No further splits with positive gain, best gain: -inf\n[LightGBM] [Warning] No further splits with positive gain, best gain: -inf\n[LightGBM] [Warning] No further splits with positive gain, best gain: -inf\n[LightGBM] [Warning] No further splits with positive gain, best gain: -inf\n[LightGBM] [Warning] No further splits with positive gain, best gain: -inf\n[LightGBM] [Warning] No further splits with positive gain, best gain: -inf\n[LightGBM] [Warning] No further splits with positive gain, best gain: -inf\n[LightGBM] [Warning] No further splits with positive gain, best gain: -inf\n[LightGBM] [Warning] No further splits with positive gain, best gain: -inf\n[LightGBM] [Warning] No further splits with positive gain, best gain: -inf\n[LightGBM] [Warning] No further splits with positive gain, best gain: -inf\n[LightGBM] [Warning] No further splits with positive gain, best gain: -inf\n[LightGBM] [Warning] No further splits with positive gain, best gain: -inf\n[LightGBM] [Warning] No further splits with positive gain, best gain: -inf\n[LightGBM] [Warning] No further splits with positive gain, best gain: -inf\n[LightGBM] [Warning] No further splits with positive gain, best gain: -inf\n[LightGBM] [Warning] No further splits with positive gain, best gain: -inf\n[LightGBM] [Warning] No further splits with positive gain, best gain: -inf\n[LightGBM] [Warning] No further splits with positive gain, best gain: -inf\n[LightGBM] [Warning] No further splits with positive gain, best gain: -inf\n[LightGBM] [Warning] No further splits with positive gain, best gain: -inf\nf1_score_max = 0.4475138121546961\nf1_score_max = 0.3614884819846426\nf1_score_max = 0.35939196525515743\nf1_score_max = 0.33775933609958503\nf1_score_max = 0.33416708354177094\nf1_score_max = 0.3474025974025973\nf1_score_max = 0.3430232558139535\nf1_score_max = 0.3259521700620017\nf1_score_max = 0.31973355537052456\nf1_score_max = 0.2857142857142857\nf1_score_max = 0.30306535569693466\nf1_score_max = 0.33202614379084966\n"
    }
   ],
   "source": [
    "%autoreload 2\n",
    "\n",
    "model = ModelSick(params, nrounds, 1, 3)\n",
    "model.fit(X_train, y_train)"
   ]
  },
  {
   "cell_type": "code",
   "execution_count": 17,
   "metadata": {},
   "outputs": [],
   "source": [
    "%autoreload 2\n",
    "predictions = model.predict(X_test)"
   ]
  },
  {
   "cell_type": "code",
   "execution_count": 18,
   "metadata": {},
   "outputs": [],
   "source": [
    "# Представление результата работы модели в плоский вид\n",
    "\n",
    "one_line_sub = pd.DataFrame(columns = ['hash_tab_num','date','target'])\n",
    "for i in range(1,13):\n",
    "    temp_result = pd.DataFrame(columns = ['hash_tab_num','date','target'])\n",
    "    temp_result['hash_tab_num'] = predictions['hash_tab_num']\n",
    "    temp_result['date'] = pd.to_datetime('2019-09-01') + pd.DateOffset(months=i-1)\n",
    "    temp_result['target'] = predictions['y_' + str(i)]\n",
    "    one_line_sub = pd.concat([one_line_sub, temp_result], axis = 0)"
   ]
  },
  {
   "cell_type": "code",
   "execution_count": 19,
   "metadata": {},
   "outputs": [
    {
     "data": {
      "text/html": "<div>\n<style scoped>\n    .dataframe tbody tr th:only-of-type {\n        vertical-align: middle;\n    }\n\n    .dataframe tbody tr th {\n        vertical-align: top;\n    }\n\n    .dataframe thead th {\n        text-align: right;\n    }\n</style>\n<table border=\"1\" class=\"dataframe\">\n  <thead>\n    <tr style=\"text-align: right;\">\n      <th></th>\n      <th>hash_tab_num</th>\n      <th>date</th>\n    </tr>\n  </thead>\n  <tbody>\n    <tr>\n      <th>0</th>\n      <td>0</td>\n      <td>2019-09-01</td>\n    </tr>\n    <tr>\n      <th>1</th>\n      <td>0</td>\n      <td>2019-10-01</td>\n    </tr>\n    <tr>\n      <th>2</th>\n      <td>0</td>\n      <td>2019-11-01</td>\n    </tr>\n    <tr>\n      <th>3</th>\n      <td>0</td>\n      <td>2019-12-01</td>\n    </tr>\n    <tr>\n      <th>4</th>\n      <td>0</td>\n      <td>2020-01-01</td>\n    </tr>\n  </tbody>\n</table>\n</div>",
      "text/plain": "   hash_tab_num       date\n0             0 2019-09-01\n1             0 2019-10-01\n2             0 2019-11-01\n3             0 2019-12-01\n4             0 2020-01-01"
     },
     "execution_count": 19,
     "metadata": {},
     "output_type": "execute_result"
    }
   ],
   "source": [
    "# Подготовка файла submission\n",
    "submission = pd.read_csv('data/submission_check.csv', sep = ';')\n",
    "submission.date = pd.to_datetime(submission.date, format='%Y-%m-%d')\n",
    "submission.drop('target', axis =1, inplace = True)\n",
    "submission.head()"
   ]
  },
  {
   "cell_type": "code",
   "execution_count": 20,
   "metadata": {},
   "outputs": [],
   "source": [
    "one_line_sub['hash_tab_num'] = pd.to_numeric(one_line_sub['hash_tab_num'])\n",
    "submission_final = pd.merge(submission, one_line_sub, how = 'left', on = ['hash_tab_num','date'])"
   ]
  },
  {
   "cell_type": "code",
   "execution_count": 22,
   "metadata": {},
   "outputs": [],
   "source": [
    "submission_final.to_csv('my_submission_25.csv', sep=';', index=False)"
   ]
  },
  {
   "cell_type": "code",
   "execution_count": null,
   "metadata": {},
   "outputs": [],
   "source": []
  }
 ]
}