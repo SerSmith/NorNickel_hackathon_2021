{
 "metadata": {
  "language_info": {
   "codemirror_mode": {
    "name": "ipython",
    "version": 3
   },
   "file_extension": ".py",
   "mimetype": "text/x-python",
   "name": "python",
   "nbconvert_exporter": "python",
   "pygments_lexer": "ipython3",
   "version": "3.6.8-final"
  },
  "orig_nbformat": 2,
  "kernelspec": {
   "name": "python36864bitlgvenvvenv4d40c4115d7c473cb668ae42325ecd73",
   "display_name": "Python 3.6.8 64-bit ('lg_venv': venv)",
   "metadata": {
    "interpreter": {
     "hash": "6ff5ba63cadd4cebb77ff5f5920f06abd45cf6fcd599c26827739a1f3b2848dc"
    }
   }
  }
 },
 "nbformat": 4,
 "nbformat_minor": 2,
 "cells": [
  {
   "cell_type": "markdown",
   "metadata": {},
   "source": [
    "# submit generation"
   ]
  },
  {
   "cell_type": "code",
   "execution_count": 1,
   "metadata": {},
   "outputs": [],
   "source": [
    "import pandas as pd\n",
    "import numpy as np\n",
    "from sklearn.metrics import precision_recall_curve\n",
    "\n",
    "from src.features import generate_features\n",
    "from src.models.model import ModelSick\n",
    "\n",
    "pd.set_option('display.max_columns', 1000)\n",
    "pd.set_option('display.max_rows', 1000)"
   ]
  },
  {
   "cell_type": "code",
   "execution_count": 2,
   "metadata": {},
   "outputs": [],
   "source": [
    "# Считывание данных\n",
    "\n",
    "sot = pd.read_csv('data/sotrudniki.csv', sep = ';')\n",
    "rod = pd.read_csv('data/rodstvenniki.csv', sep = ';')\n",
    "ogrv = pd.read_csv('data/OGRV.csv', sep = ';')\n",
    "weather = pd.read_csv('data/Weather.csv', sep = '|')"
   ]
  },
  {
   "cell_type": "code",
   "execution_count": 3,
   "metadata": {},
   "outputs": [],
   "source": [
    "X, y = generate_features(sot, rod, ogrv, weather)"
   ]
  },
  {
   "cell_type": "code",
   "execution_count": null,
   "metadata": {},
   "outputs": [],
   "source": [
    "best = {'feature_fraction': 0.8,\n",
    " 'lambda_l1': 12.9,\n",
    " 'lambda_l2': 14.600000000000001,\n",
    " 'learning_rate': 0.1,\n",
    " 'max_bin': 310.0,\n",
    " 'max_depth': 5.0,\n",
    " 'min_data_in_leaf': 1200.0,\n",
    " 'num_leaves': 84.0,\n",
    " 'path_smooth': 2.325}\n",
    "best_params = {'num_leaves': int(best['num_leaves'])\n",
    "            , 'max_bin': int(best['max_bin'])\n",
    "            , 'max_depth': int(best['max_depth'])\n",
    "            , 'learning_rate': round(best['learning_rate'], 3)\n",
    "            , 'path_smooth': round(best['path_smooth'], 3)\n",
    "            , 'lambda_l1': round(best['lambda_l1'], 3)\n",
    "            , 'lambda_l2': round(best['lambda_l2'], 3)\n",
    "            , 'min_data_in_leaf': int(best['min_data_in_leaf'])\n",
    "            , 'feature_fraction':round(best['feature_fraction'], 3)         \n",
    "            , 'objective': 'binary' \n",
    "            , 'metric': 'auc'\n",
    "            , 'nthread': 7\n",
    "             }\n",
    "nround = 15\n",
    "\n",
    "params = {i: best_params for i in range(1,13)}\n",
    "nrounds = {i: nround for i in range(1,13)}"
   ]
  },
  {
   "cell_type": "code",
   "execution_count": null,
   "metadata": {},
   "outputs": [],
   "source": [
    "model = ModelSick(params, nrounds)"
   ]
  },
  {
   "cell_type": "code",
   "execution_count": null,
   "metadata": {},
   "outputs": [],
   "source": [
    "# Деление на трейн и тест для последующего прогноза final\n",
    "\n",
    "X_train = X[X.date < pd.to_datetime('2019-08-01')]\n",
    "y_train = y[X.date < pd.to_datetime('2019-08-01')]\n",
    "\n",
    "X_train = X_train[~ y_train.isna().any(axis=1)]\n",
    "y_train = y_train[~ y_train.isna().any(axis=1)]\n",
    "\n",
    "X_test = X[X.date == pd.to_datetime('2019-08-01')]"
   ]
  },
  {
   "cell_type": "code",
   "execution_count": null,
   "metadata": {},
   "outputs": [],
   "source": [
    "X_train.shape"
   ]
  },
  {
   "cell_type": "code",
   "execution_count": null,
   "metadata": {},
   "outputs": [],
   "source": [
    "y_train.shape"
   ]
  },
  {
   "cell_type": "code",
   "execution_count": null,
   "metadata": {},
   "outputs": [],
   "source": [
    "model.fit(X_train, y_train)"
   ]
  },
  {
   "cell_type": "code",
   "execution_count": null,
   "metadata": {},
   "outputs": [],
   "source": [
    "predictions = model.predict(X_test)"
   ]
  },
  {
   "cell_type": "code",
   "execution_count": null,
   "metadata": {},
   "outputs": [],
   "source": [
    "# Представление результата работы модели в плоский вид\n",
    "\n",
    "one_line_sub = pd.DataFrame(columns = ['hash_tab_num','date','target'])\n",
    "for i in range(1,13):\n",
    "    temp_result = pd.DataFrame(columns = ['hash_tab_num','date','target'])\n",
    "    temp_result['hash_tab_num'] = predictions['hash_tab_num']\n",
    "    temp_result['date'] = pd.to_datetime('2019-09-01') + pd.DateOffset(months=i-1)\n",
    "    temp_result['target'] = predictions['y_' + str(i)]\n",
    "    one_line_sub = pd.concat([one_line_sub, temp_result], axis = 0)"
   ]
  },
  {
   "cell_type": "code",
   "execution_count": null,
   "metadata": {},
   "outputs": [],
   "source": [
    "# Подготовка файла submission\n",
    "submission = pd.read_csv('data/submission_check.csv', sep = ';')\n",
    "submission.date = pd.to_datetime(submission.date, format='%Y-%m-%d')\n",
    "submission.drop('target', axis =1, inplace = True)\n",
    "submission.head()"
   ]
  },
  {
   "cell_type": "code",
   "execution_count": null,
   "metadata": {},
   "outputs": [],
   "source": [
    "one_line_sub['hash_tab_num'] = pd.to_numeric(one_line_sub['hash_tab_num'])\n",
    "submission_final = pd.merge(submission, one_line_sub, how = 'left', on = ['hash_tab_num','date'])"
   ]
  },
  {
   "cell_type": "code",
   "execution_count": null,
   "metadata": {},
   "outputs": [],
   "source": [
    "submission_final.to_csv('my_submission_6.csv', sep=';', index=False)"
   ]
  },
  {
   "cell_type": "markdown",
   "metadata": {},
   "source": [
    "# Feature analyses"
   ]
  },
  {
   "cell_type": "code",
   "execution_count": 20,
   "metadata": {},
   "outputs": [
    {
     "data": {
      "text/html": "<div>\n<style scoped>\n    .dataframe tbody tr th:only-of-type {\n        vertical-align: middle;\n    }\n\n    .dataframe tbody tr th {\n        vertical-align: top;\n    }\n\n    .dataframe thead th {\n        text-align: right;\n    }\n</style>\n<table border=\"1\" class=\"dataframe\">\n  <thead>\n    <tr style=\"text-align: right;\">\n      <th></th>\n      <th>index</th>\n      <th>Name</th>\n      <th>Value</th>\n    </tr>\n  </thead>\n  <tbody>\n    <tr>\n      <th>0</th>\n      <td>72</td>\n      <td>cnt_days_graphic_rule_level_1_Bolnichnyj_cummean</td>\n      <td>0.379588</td>\n    </tr>\n    <tr>\n      <th>1</th>\n      <td>77</td>\n      <td>cnt_days_graphic_rule_level_1_Bolnichnyj_rolli...</td>\n      <td>0.174097</td>\n    </tr>\n    <tr>\n      <th>2</th>\n      <td>75</td>\n      <td>cnt_days_graphic_rule_level_1_Bolnichnyj_rolli...</td>\n      <td>0.063732</td>\n    </tr>\n    <tr>\n      <th>3</th>\n      <td>78</td>\n      <td>cnt_days_graphic_rule_level_1_Bolnichnyj_rolli...</td>\n      <td>0.040046</td>\n    </tr>\n    <tr>\n      <th>4</th>\n      <td>80</td>\n      <td>trend_cnt_days_graphic_rule_level_1_Bolnichnyj...</td>\n      <td>0.025886</td>\n    </tr>\n    <tr>\n      <th>5</th>\n      <td>3</td>\n      <td>work_experience_company</td>\n      <td>0.025192</td>\n    </tr>\n    <tr>\n      <th>6</th>\n      <td>35</td>\n      <td>young_children_6_female_cnt</td>\n      <td>0.022952</td>\n    </tr>\n    <tr>\n      <th>7</th>\n      <td>89</td>\n      <td>cnt_days_graphic_rule_level_1_Vyhodnoj_rolling...</td>\n      <td>0.021197</td>\n    </tr>\n    <tr>\n      <th>8</th>\n      <td>105</td>\n      <td>cnt_days_graphic_rule_level_1_Drugoe_cummean</td>\n      <td>0.020453</td>\n    </tr>\n    <tr>\n      <th>9</th>\n      <td>4</td>\n      <td>work_experience_all</td>\n      <td>0.013290</td>\n    </tr>\n    <tr>\n      <th>10</th>\n      <td>83</td>\n      <td>cnt_days_graphic_rule_level_1_Vyhodnoj_cummean</td>\n      <td>0.012295</td>\n    </tr>\n    <tr>\n      <th>11</th>\n      <td>74</td>\n      <td>cnt_days_graphic_rule_level_1_Bolnichnyj_rolli...</td>\n      <td>0.011673</td>\n    </tr>\n    <tr>\n      <th>12</th>\n      <td>108</td>\n      <td>cnt_days_graphic_rule_level_1_Drugoe_rolling_m...</td>\n      <td>0.011375</td>\n    </tr>\n    <tr>\n      <th>13</th>\n      <td>71</td>\n      <td>cnt_days_graphic_rule_level_1_Bolnichnyj_cummax</td>\n      <td>0.011076</td>\n    </tr>\n    <tr>\n      <th>14</th>\n      <td>36</td>\n      <td>young_children_11_female_cnt</td>\n      <td>0.009370</td>\n    </tr>\n    <tr>\n      <th>15</th>\n      <td>18</td>\n      <td>razryad_fact_0</td>\n      <td>0.008797</td>\n    </tr>\n    <tr>\n      <th>16</th>\n      <td>45</td>\n      <td>work_shift_type_count_rolling_mean_24</td>\n      <td>0.008796</td>\n    </tr>\n    <tr>\n      <th>17</th>\n      <td>53</td>\n      <td>sum_work_hours_rolling_mean_6</td>\n      <td>0.006416</td>\n    </tr>\n    <tr>\n      <th>18</th>\n      <td>182</td>\n      <td>name_fact_lvl4_sick_avg</td>\n      <td>0.006351</td>\n    </tr>\n    <tr>\n      <th>19</th>\n      <td>50</td>\n      <td>sum_work_hours_cummean</td>\n      <td>0.006026</td>\n    </tr>\n  </tbody>\n</table>\n</div>",
      "text/plain": "    index                                               Name     Value\n0      72   cnt_days_graphic_rule_level_1_Bolnichnyj_cummean  0.379588\n1      77  cnt_days_graphic_rule_level_1_Bolnichnyj_rolli...  0.174097\n2      75  cnt_days_graphic_rule_level_1_Bolnichnyj_rolli...  0.063732\n3      78  cnt_days_graphic_rule_level_1_Bolnichnyj_rolli...  0.040046\n4      80  trend_cnt_days_graphic_rule_level_1_Bolnichnyj...  0.025886\n5       3                            work_experience_company  0.025192\n6      35                        young_children_6_female_cnt  0.022952\n7      89  cnt_days_graphic_rule_level_1_Vyhodnoj_rolling...  0.021197\n8     105       cnt_days_graphic_rule_level_1_Drugoe_cummean  0.020453\n9       4                                work_experience_all  0.013290\n10     83     cnt_days_graphic_rule_level_1_Vyhodnoj_cummean  0.012295\n11     74  cnt_days_graphic_rule_level_1_Bolnichnyj_rolli...  0.011673\n12    108  cnt_days_graphic_rule_level_1_Drugoe_rolling_m...  0.011375\n13     71    cnt_days_graphic_rule_level_1_Bolnichnyj_cummax  0.011076\n14     36                       young_children_11_female_cnt  0.009370\n15     18                                     razryad_fact_0  0.008797\n16     45              work_shift_type_count_rolling_mean_24  0.008796\n17     53                      sum_work_hours_rolling_mean_6  0.006416\n18    182                            name_fact_lvl4_sick_avg  0.006351\n19     50                             sum_work_hours_cummean  0.006026"
     },
     "execution_count": 20,
     "metadata": {},
     "output_type": "execute_result"
    }
   ],
   "source": [
    "gain = model.models[2].feature_importance(importance_type='gain')\n",
    "summ = sum(gain)\n",
    "df_gain = pd.DataFrame({'Name':list(X_train.drop(['hash_tab_num', 'date'], axis=1).columns), 'Value': gain/summ}).sort_values(by='Value', ascending=False).reset_index()\n",
    "df_gain.head(20)"
   ]
  },
  {
   "cell_type": "code",
   "execution_count": 18,
   "metadata": {},
   "outputs": [
    {
     "data": {
      "text/plain": "['hash_tab_num',\n 'date',\n 'age',\n 'is_local',\n 'gender',\n 'work_experience_company',\n 'work_experience_all',\n 'home_to_work_distance',\n 'work_experience_all_stage_0',\n 'work_experience_all_stage_1',\n 'work_experience_all_stage_2',\n 'work_experience_all_stage_3',\n 'personel_num',\n 'category_Rabochie',\n 'category_Rukovoditeli',\n 'category_Sluzhaschie',\n 'category_Spetsialisty',\n 'education_Vysshee',\n 'education_Nachalnoe_srednee',\n 'education_Srednee_professinalnoe',\n 'razryad_fact_0',\n 'razryad_fact_1',\n 'razryad_fact_2',\n 'razryad_fact_3',\n 'razryad_fact_4',\n 'razryad_fact_5',\n 'razryad_fact_6',\n 'razryad_post_0',\n 'razryad_post_1',\n 'razryad_post_2',\n 'razryad_post_3',\n 'razryad_post_4',\n 'razryad_post_5',\n 'razryad_post_6',\n 'rale_is_old',\n 'young_children_6_cnt',\n 'young_children_11_cnt',\n 'young_children_6_female_cnt',\n 'young_children_11_female_cnt',\n 'work_shift_type_count',\n 'work_shift_type_count_cummax',\n 'work_shift_type_count_cummean',\n 'work_shift_type_count_rolling_mean_2',\n 'work_shift_type_count_rolling_mean_3',\n 'work_shift_type_count_rolling_mean_6',\n 'work_shift_type_count_rolling_mean_9',\n 'work_shift_type_count_rolling_mean_12',\n 'work_shift_type_count_rolling_mean_24',\n 'trend_work_shift_type_count_2_24',\n 'trend_work_shift_type_count_2_12',\n 'sum_work_hours',\n 'sum_work_hours_cummax',\n 'sum_work_hours_cummean',\n 'sum_work_hours_rolling_mean_2',\n 'sum_work_hours_rolling_mean_3',\n 'sum_work_hours_rolling_mean_6',\n 'sum_work_hours_rolling_mean_9',\n 'sum_work_hours_rolling_mean_12',\n 'sum_work_hours_rolling_mean_24',\n 'trend_sum_work_hours_2_24',\n 'trend_sum_work_hours_2_12',\n 'sick',\n 'sick_cummax',\n 'sick_cummean',\n 'sick_rolling_mean_2',\n 'sick_rolling_mean_3',\n 'sick_rolling_mean_6',\n 'sick_rolling_mean_9',\n 'sick_rolling_mean_12',\n 'sick_rolling_mean_24',\n 'trend_sick_2_24',\n 'trend_sick_2_12',\n 'cnt_days_graphic_rule_level_1_Bolnichnyj',\n 'cnt_days_graphic_rule_level_1_Bolnichnyj_cummax',\n 'cnt_days_graphic_rule_level_1_Bolnichnyj_cummean',\n 'cnt_days_graphic_rule_level_1_Bolnichnyj_rolling_mean_2',\n 'cnt_days_graphic_rule_level_1_Bolnichnyj_rolling_mean_3',\n 'cnt_days_graphic_rule_level_1_Bolnichnyj_rolling_mean_6',\n 'cnt_days_graphic_rule_level_1_Bolnichnyj_rolling_mean_9',\n 'cnt_days_graphic_rule_level_1_Bolnichnyj_rolling_mean_12',\n 'cnt_days_graphic_rule_level_1_Bolnichnyj_rolling_mean_24',\n 'trend_cnt_days_graphic_rule_level_1_Bolnichnyj_2_24',\n 'trend_cnt_days_graphic_rule_level_1_Bolnichnyj_2_12',\n 'cnt_days_graphic_rule_level_1_Vyhodnoj',\n 'cnt_days_graphic_rule_level_1_Vyhodnoj_cummax',\n 'cnt_days_graphic_rule_level_1_Vyhodnoj_cummean',\n 'cnt_days_graphic_rule_level_1_Vyhodnoj_rolling_mean_2',\n 'cnt_days_graphic_rule_level_1_Vyhodnoj_rolling_mean_3',\n 'cnt_days_graphic_rule_level_1_Vyhodnoj_rolling_mean_6',\n 'cnt_days_graphic_rule_level_1_Vyhodnoj_rolling_mean_9',\n 'cnt_days_graphic_rule_level_1_Vyhodnoj_rolling_mean_12',\n 'cnt_days_graphic_rule_level_1_Vyhodnoj_rolling_mean_24',\n 'trend_cnt_days_graphic_rule_level_1_Vyhodnoj_2_24',\n 'trend_cnt_days_graphic_rule_level_1_Vyhodnoj_2_12',\n 'cnt_days_graphic_rule_level_1_Donorskie',\n 'cnt_days_graphic_rule_level_1_Donorskie_cummax',\n 'cnt_days_graphic_rule_level_1_Donorskie_cummean',\n 'cnt_days_graphic_rule_level_1_Donorskie_rolling_mean_2',\n 'cnt_days_graphic_rule_level_1_Donorskie_rolling_mean_3',\n 'cnt_days_graphic_rule_level_1_Donorskie_rolling_mean_6',\n 'cnt_days_graphic_rule_level_1_Donorskie_rolling_mean_9',\n 'cnt_days_graphic_rule_level_1_Donorskie_rolling_mean_12',\n 'cnt_days_graphic_rule_level_1_Donorskie_rolling_mean_24',\n 'trend_cnt_days_graphic_rule_level_1_Donorskie_2_24',\n 'trend_cnt_days_graphic_rule_level_1_Donorskie_2_12',\n 'cnt_days_graphic_rule_level_1_Drugoe',\n 'cnt_days_graphic_rule_level_1_Drugoe_cummax',\n 'cnt_days_graphic_rule_level_1_Drugoe_cummean',\n 'cnt_days_graphic_rule_level_1_Drugoe_rolling_mean_2',\n 'cnt_days_graphic_rule_level_1_Drugoe_rolling_mean_3',\n 'cnt_days_graphic_rule_level_1_Drugoe_rolling_mean_6',\n 'cnt_days_graphic_rule_level_1_Drugoe_rolling_mean_9',\n 'cnt_days_graphic_rule_level_1_Drugoe_rolling_mean_12',\n 'cnt_days_graphic_rule_level_1_Drugoe_rolling_mean_24',\n 'trend_cnt_days_graphic_rule_level_1_Drugoe_2_24',\n 'trend_cnt_days_graphic_rule_level_1_Drugoe_2_12',\n 'cnt_days_graphic_rule_level_1_Komandirovka',\n 'cnt_days_graphic_rule_level_1_Komandirovka_cummax',\n 'cnt_days_graphic_rule_level_1_Komandirovka_cummean',\n 'cnt_days_graphic_rule_level_1_Komandirovka_rolling_mean_2',\n 'cnt_days_graphic_rule_level_1_Komandirovka_rolling_mean_3',\n 'cnt_days_graphic_rule_level_1_Komandirovka_rolling_mean_6',\n 'cnt_days_graphic_rule_level_1_Komandirovka_rolling_mean_9',\n 'cnt_days_graphic_rule_level_1_Komandirovka_rolling_mean_12',\n 'cnt_days_graphic_rule_level_1_Komandirovka_rolling_mean_24',\n 'trend_cnt_days_graphic_rule_level_1_Komandirovka_2_24',\n 'trend_cnt_days_graphic_rule_level_1_Komandirovka_2_12',\n 'cnt_days_graphic_rule_level_1_Otpusk',\n 'cnt_days_graphic_rule_level_1_Otpusk_cummax',\n 'cnt_days_graphic_rule_level_1_Otpusk_cummean',\n 'cnt_days_graphic_rule_level_1_Otpusk_rolling_mean_2',\n 'cnt_days_graphic_rule_level_1_Otpusk_rolling_mean_3',\n 'cnt_days_graphic_rule_level_1_Otpusk_rolling_mean_6',\n 'cnt_days_graphic_rule_level_1_Otpusk_rolling_mean_9',\n 'cnt_days_graphic_rule_level_1_Otpusk_rolling_mean_12',\n 'cnt_days_graphic_rule_level_1_Otpusk_rolling_mean_24',\n 'trend_cnt_days_graphic_rule_level_1_Otpusk_2_24',\n 'trend_cnt_days_graphic_rule_level_1_Otpusk_2_12',\n 'cnt_days_graphic_rule_level_1_Progul',\n 'cnt_days_graphic_rule_level_1_Progul_cummax',\n 'cnt_days_graphic_rule_level_1_Progul_cummean',\n 'cnt_days_graphic_rule_level_1_Progul_rolling_mean_2',\n 'cnt_days_graphic_rule_level_1_Progul_rolling_mean_3',\n 'cnt_days_graphic_rule_level_1_Progul_rolling_mean_6',\n 'cnt_days_graphic_rule_level_1_Progul_rolling_mean_9',\n 'cnt_days_graphic_rule_level_1_Progul_rolling_mean_12',\n 'cnt_days_graphic_rule_level_1_Progul_rolling_mean_24',\n 'trend_cnt_days_graphic_rule_level_1_Progul_2_24',\n 'trend_cnt_days_graphic_rule_level_1_Progul_2_12',\n 'name_post_lvl4_people_count',\n 'name_post_lvl4_sick_count',\n 'name_post_lvl4_sick_avg',\n 'name_post_lvl4_people_count_cummax',\n 'name_post_lvl4_people_count_cummean',\n 'name_post_lvl4_people_count_rolling_mean_2',\n 'name_post_lvl4_people_count_rolling_mean_3',\n 'name_post_lvl4_people_count_rolling_mean_6',\n 'name_post_lvl4_people_count_rolling_mean_9',\n 'name_post_lvl4_people_count_rolling_mean_12',\n 'name_post_lvl4_people_count_rolling_mean_24',\n 'trend_name_post_lvl4_people_count_2_24',\n 'trend_name_post_lvl4_people_count_2_12',\n 'name_post_lvl4_sick_count_cummax',\n 'name_post_lvl4_sick_count_cummean',\n 'name_post_lvl4_sick_count_rolling_mean_2',\n 'name_post_lvl4_sick_count_rolling_mean_3',\n 'name_post_lvl4_sick_count_rolling_mean_6',\n 'name_post_lvl4_sick_count_rolling_mean_9',\n 'name_post_lvl4_sick_count_rolling_mean_12',\n 'name_post_lvl4_sick_count_rolling_mean_24',\n 'trend_name_post_lvl4_sick_count_2_24',\n 'trend_name_post_lvl4_sick_count_2_12',\n 'name_post_lvl4_sick_avg_cummax',\n 'name_post_lvl4_sick_avg_cummean',\n 'name_post_lvl4_sick_avg_rolling_mean_2',\n 'name_post_lvl4_sick_avg_rolling_mean_3',\n 'name_post_lvl4_sick_avg_rolling_mean_6',\n 'name_post_lvl4_sick_avg_rolling_mean_9',\n 'name_post_lvl4_sick_avg_rolling_mean_12',\n 'name_post_lvl4_sick_avg_rolling_mean_24',\n 'trend_name_post_lvl4_sick_avg_2_24',\n 'trend_name_post_lvl4_sick_avg_2_12',\n 'name_fact_lvl4_people_count',\n 'name_fact_lvl4_sick_count',\n 'name_fact_lvl4_sick_avg',\n 'name_fact_lvl4_people_count_cummax',\n 'name_fact_lvl4_people_count_cummean',\n 'name_fact_lvl4_people_count_rolling_mean_2',\n 'name_fact_lvl4_people_count_rolling_mean_3',\n 'name_fact_lvl4_people_count_rolling_mean_6',\n 'name_fact_lvl4_people_count_rolling_mean_9',\n 'name_fact_lvl4_people_count_rolling_mean_12',\n 'name_fact_lvl4_people_count_rolling_mean_24',\n 'trend_name_fact_lvl4_people_count_2_24',\n 'trend_name_fact_lvl4_people_count_2_12',\n 'name_fact_lvl4_sick_count_cummax',\n 'name_fact_lvl4_sick_count_cummean',\n 'name_fact_lvl4_sick_count_rolling_mean_2',\n 'name_fact_lvl4_sick_count_rolling_mean_3',\n 'name_fact_lvl4_sick_count_rolling_mean_6',\n 'name_fact_lvl4_sick_count_rolling_mean_9',\n 'name_fact_lvl4_sick_count_rolling_mean_12',\n 'name_fact_lvl4_sick_count_rolling_mean_24',\n 'trend_name_fact_lvl4_sick_count_2_24',\n 'trend_name_fact_lvl4_sick_count_2_12',\n 'name_fact_lvl4_sick_avg_cummax',\n 'name_fact_lvl4_sick_avg_cummean',\n 'name_fact_lvl4_sick_avg_rolling_mean_2',\n 'name_fact_lvl4_sick_avg_rolling_mean_3',\n 'name_fact_lvl4_sick_avg_rolling_mean_6',\n 'name_fact_lvl4_sick_avg_rolling_mean_9',\n 'name_fact_lvl4_sick_avg_rolling_mean_12',\n 'name_fact_lvl4_sick_avg_rolling_mean_24',\n 'trend_name_fact_lvl4_sick_avg_2_24',\n 'trend_name_fact_lvl4_sick_avg_2_12',\n 'is_last_day',\n 'month',\n 'Temp_Srednij_minimum',\n 'Temp_Srednjaja',\n 'Temp_Srednij_maksimum',\n 'Osadki_Norma',\n 'tverdye',\n 'smeshannye',\n 'zhidkie',\n 'Veter',\n 'dozhd',\n 'sneg',\n 'tuman',\n 'groza',\n 'metel',\n 'gololed',\n 'izmoroz',\n 'nalipanie_m.s.',\n 'slozhnoe_otl.',\n 'obschaja',\n 'nizhnjaja']"
     },
     "execution_count": 18,
     "metadata": {},
     "output_type": "execute_result"
    }
   ],
   "source": [
    "list(X_train.columns)"
   ]
  },
  {
   "cell_type": "code",
   "execution_count": 22,
   "metadata": {},
   "outputs": [],
   "source": [
    "X.to_csv(\"X.csv\")"
   ]
  },
  {
   "cell_type": "code",
   "execution_count": null,
   "metadata": {},
   "outputs": [],
   "source": []
  }
 ]
}